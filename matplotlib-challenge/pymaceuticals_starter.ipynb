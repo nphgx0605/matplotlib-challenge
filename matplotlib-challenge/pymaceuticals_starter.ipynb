{
 "cells": [
  {
   "attachments": {},
   "cell_type": "markdown",
   "metadata": {},
   "source": [
    "# Pymaceuticals Inc.\n",
    "---\n",
    "\n",
    "### Analysis\n",
    "\n",
    "- Add your analysis here.\n",
    " "
   ]
  },
  {
   "cell_type": "code",
   "execution_count": 3,
   "metadata": {},
   "outputs": [
    {
     "name": "stdout",
     "output_type": "stream",
     "text": [
      "     Mouse ID Drug Regimen   Sex  Age_months  Weight (g)  Timepoint  \\\n",
      "0        k403     Ramicane  Male          21          16          0   \n",
      "1        k403     Ramicane  Male          21          16          5   \n",
      "2        k403     Ramicane  Male          21          16         10   \n",
      "3        k403     Ramicane  Male          21          16         15   \n",
      "4        k403     Ramicane  Male          21          16         20   \n",
      "...       ...          ...   ...         ...         ...        ...   \n",
      "1888     z969     Naftisol  Male           9          30         25   \n",
      "1889     z969     Naftisol  Male           9          30         30   \n",
      "1890     z969     Naftisol  Male           9          30         35   \n",
      "1891     z969     Naftisol  Male           9          30         40   \n",
      "1892     z969     Naftisol  Male           9          30         45   \n",
      "\n",
      "      Tumor Volume (mm3)  Metastatic Sites  \n",
      "0              45.000000                 0  \n",
      "1              38.825898                 0  \n",
      "2              35.014271                 1  \n",
      "3              34.223992                 1  \n",
      "4              32.997729                 1  \n",
      "...                  ...               ...  \n",
      "1888           63.145652                 2  \n",
      "1889           65.841013                 3  \n",
      "1890           69.176246                 4  \n",
      "1891           70.314904                 4  \n",
      "1892           73.867845                 4  \n",
      "\n",
      "[1893 rows x 8 columns]\n"
     ]
    }
   ],
   "source": [
    "# Dependencies and Setup\n",
    "import matplotlib.pyplot as plt\n",
    "import pandas as pd\n",
    "import scipy.stats as st\n",
    "\n",
    "# Study data files\n",
    "mouse_metadata_path = \"data/Mouse_metadata.csv\"\n",
    "study_results_path = \"data/Study_results.csv\"\n",
    "\n",
    "# Read the mouse data and the study results\n",
    "mouse_metadata = pd.read_csv(mouse_metadata_path)\n",
    "study_results = pd.read_csv(study_results_path)\n",
    "\n",
    "# Combine the data into a single DataFrame\n",
    "merged_data = pd.merge(mouse_metadata,study_results, on=\"Mouse ID\")\n",
    "\n",
    "# Display the data table for preview\n",
    "print(merged_data)\n"
   ]
  },
  {
   "cell_type": "code",
   "execution_count": 12,
   "metadata": {},
   "outputs": [
    {
     "name": "stdout",
     "output_type": "stream",
     "text": [
      "Number of unique mice: 249\n"
     ]
    }
   ],
   "source": [
    "# Checking the number of mice.\n",
    "number_of_mice = merged_data[\"Mouse ID\"].unique()\n",
    "print(f'Number of unique mice: {len(number_of_mice)}')"
   ]
  },
  {
   "cell_type": "code",
   "execution_count": 45,
   "metadata": {},
   "outputs": [
    {
     "name": "stdout",
     "output_type": "stream",
     "text": [
      "['g989']\n",
      "object\n"
     ]
    }
   ],
   "source": [
    "# Our data should be uniquely identified by Mouse ID and Timepoint\n",
    "# Get the duplicate mice by ID number that shows up for Mouse ID and Timepoint.\n",
    "duplicates = merged_data[merged_data.duplicated(subset=['Mouse ID', 'Timepoint'], keep=False)]\n",
    "duplicate_ids = duplicates['Mouse ID'].unique()\n",
    "print(duplicate_ids)\n",
    "print(duplicate_ids.dtype)"
   ]
  },
  {
   "cell_type": "code",
   "execution_count": 20,
   "metadata": {},
   "outputs": [
    {
     "name": "stdout",
     "output_type": "stream",
     "text": [
      "    Mouse ID Drug Regimen     Sex  Age_months  Weight (g)  Timepoint  \\\n",
      "908     g989     Propriva  Female          21          26          0   \n",
      "909     g989     Propriva  Female          21          26          0   \n",
      "910     g989     Propriva  Female          21          26          5   \n",
      "911     g989     Propriva  Female          21          26          5   \n",
      "912     g989     Propriva  Female          21          26         10   \n",
      "913     g989     Propriva  Female          21          26         10   \n",
      "914     g989     Propriva  Female          21          26         15   \n",
      "915     g989     Propriva  Female          21          26         15   \n",
      "916     g989     Propriva  Female          21          26         20   \n",
      "917     g989     Propriva  Female          21          26         20   \n",
      "\n",
      "     Tumor Volume (mm3)  Metastatic Sites  \n",
      "908           45.000000                 0  \n",
      "909           45.000000                 0  \n",
      "910           48.786801                 0  \n",
      "911           47.570392                 0  \n",
      "912           51.745156                 0  \n",
      "913           49.880528                 0  \n",
      "914           51.325852                 1  \n",
      "915           53.442020                 0  \n",
      "916           55.326122                 1  \n",
      "917           54.657650                 1  \n"
     ]
    }
   ],
   "source": [
    "# Optional: Get all the data for the duplicate mouse ID.\n",
    "print(duplicates)"
   ]
  },
  {
   "cell_type": "code",
   "execution_count": 55,
   "metadata": {},
   "outputs": [
    {
     "name": "stdout",
     "output_type": "stream",
     "text": [
      "     Mouse ID Drug Regimen   Sex  Age_months  Weight (g)  Timepoint  \\\n",
      "0        k403     Ramicane  Male          21          16          0   \n",
      "1        k403     Ramicane  Male          21          16          5   \n",
      "2        k403     Ramicane  Male          21          16         10   \n",
      "3        k403     Ramicane  Male          21          16         15   \n",
      "4        k403     Ramicane  Male          21          16         20   \n",
      "...       ...          ...   ...         ...         ...        ...   \n",
      "1888     z969     Naftisol  Male           9          30         25   \n",
      "1889     z969     Naftisol  Male           9          30         30   \n",
      "1890     z969     Naftisol  Male           9          30         35   \n",
      "1891     z969     Naftisol  Male           9          30         40   \n",
      "1892     z969     Naftisol  Male           9          30         45   \n",
      "\n",
      "      Tumor Volume (mm3)  Metastatic Sites  \n",
      "0              45.000000                 0  \n",
      "1              38.825898                 0  \n",
      "2              35.014271                 1  \n",
      "3              34.223992                 1  \n",
      "4              32.997729                 1  \n",
      "...                  ...               ...  \n",
      "1888           63.145652                 2  \n",
      "1889           65.841013                 3  \n",
      "1890           69.176246                 4  \n",
      "1891           70.314904                 4  \n",
      "1892           73.867845                 4  \n",
      "\n",
      "[1880 rows x 8 columns]\n"
     ]
    }
   ],
   "source": [
    "# Create a clean DataFrame by dropping the duplicate mouse by its ID.\n",
    "cleaned_data = merged_data[~merged_data['Mouse ID'].isin(duplicate_ids)]\n",
    "print(cleaned_data)\n"
   ]
  },
  {
   "cell_type": "code",
   "execution_count": 53,
   "metadata": {},
   "outputs": [
    {
     "name": "stdout",
     "output_type": "stream",
     "text": [
      "248\n"
     ]
    }
   ],
   "source": [
    "# Checking the number of mice in the clean DataFrame.\n",
    "print(len(cleaned_data['Mouse ID'].unique()))"
   ]
  },
  {
   "cell_type": "markdown",
   "metadata": {},
   "source": [
    "## Summary Statistics"
   ]
  },
  {
   "cell_type": "code",
   "execution_count": 71,
   "metadata": {},
   "outputs": [
    {
     "data": {
      "text/html": [
       "<div>\n",
       "<style scoped>\n",
       "    .dataframe tbody tr th:only-of-type {\n",
       "        vertical-align: middle;\n",
       "    }\n",
       "\n",
       "    .dataframe tbody tr th {\n",
       "        vertical-align: top;\n",
       "    }\n",
       "\n",
       "    .dataframe thead tr th {\n",
       "        text-align: left;\n",
       "    }\n",
       "\n",
       "    .dataframe thead tr:last-of-type th {\n",
       "        text-align: right;\n",
       "    }\n",
       "</style>\n",
       "<table border=\"1\" class=\"dataframe\">\n",
       "  <thead>\n",
       "    <tr>\n",
       "      <th></th>\n",
       "      <th colspan=\"8\" halign=\"left\">Age_months</th>\n",
       "      <th colspan=\"2\" halign=\"left\">Weight (g)</th>\n",
       "      <th>...</th>\n",
       "      <th colspan=\"2\" halign=\"left\">Tumor Volume (mm3)</th>\n",
       "      <th colspan=\"8\" halign=\"left\">Metastatic Sites</th>\n",
       "    </tr>\n",
       "    <tr>\n",
       "      <th></th>\n",
       "      <th>count</th>\n",
       "      <th>mean</th>\n",
       "      <th>std</th>\n",
       "      <th>min</th>\n",
       "      <th>25%</th>\n",
       "      <th>50%</th>\n",
       "      <th>75%</th>\n",
       "      <th>max</th>\n",
       "      <th>count</th>\n",
       "      <th>mean</th>\n",
       "      <th>...</th>\n",
       "      <th>75%</th>\n",
       "      <th>max</th>\n",
       "      <th>count</th>\n",
       "      <th>mean</th>\n",
       "      <th>std</th>\n",
       "      <th>min</th>\n",
       "      <th>25%</th>\n",
       "      <th>50%</th>\n",
       "      <th>75%</th>\n",
       "      <th>max</th>\n",
       "    </tr>\n",
       "    <tr>\n",
       "      <th>Drug Regimen</th>\n",
       "      <th></th>\n",
       "      <th></th>\n",
       "      <th></th>\n",
       "      <th></th>\n",
       "      <th></th>\n",
       "      <th></th>\n",
       "      <th></th>\n",
       "      <th></th>\n",
       "      <th></th>\n",
       "      <th></th>\n",
       "      <th></th>\n",
       "      <th></th>\n",
       "      <th></th>\n",
       "      <th></th>\n",
       "      <th></th>\n",
       "      <th></th>\n",
       "      <th></th>\n",
       "      <th></th>\n",
       "      <th></th>\n",
       "      <th></th>\n",
       "      <th></th>\n",
       "    </tr>\n",
       "  </thead>\n",
       "  <tbody>\n",
       "    <tr>\n",
       "      <th>Capomulin</th>\n",
       "      <td>230.0</td>\n",
       "      <td>13.456522</td>\n",
       "      <td>7.721423</td>\n",
       "      <td>1.0</td>\n",
       "      <td>7.00</td>\n",
       "      <td>16.5</td>\n",
       "      <td>20.0</td>\n",
       "      <td>24.0</td>\n",
       "      <td>230.0</td>\n",
       "      <td>19.965217</td>\n",
       "      <td>...</td>\n",
       "      <td>45.000000</td>\n",
       "      <td>48.158209</td>\n",
       "      <td>230.0</td>\n",
       "      <td>0.713043</td>\n",
       "      <td>0.848993</td>\n",
       "      <td>0.0</td>\n",
       "      <td>0.0</td>\n",
       "      <td>0.0</td>\n",
       "      <td>1.0</td>\n",
       "      <td>3.0</td>\n",
       "    </tr>\n",
       "    <tr>\n",
       "      <th>Ceftamin</th>\n",
       "      <td>178.0</td>\n",
       "      <td>13.247191</td>\n",
       "      <td>8.071406</td>\n",
       "      <td>2.0</td>\n",
       "      <td>6.00</td>\n",
       "      <td>12.0</td>\n",
       "      <td>20.0</td>\n",
       "      <td>24.0</td>\n",
       "      <td>178.0</td>\n",
       "      <td>27.398876</td>\n",
       "      <td>...</td>\n",
       "      <td>56.801438</td>\n",
       "      <td>68.923185</td>\n",
       "      <td>178.0</td>\n",
       "      <td>1.179775</td>\n",
       "      <td>1.184283</td>\n",
       "      <td>0.0</td>\n",
       "      <td>0.0</td>\n",
       "      <td>1.0</td>\n",
       "      <td>2.0</td>\n",
       "      <td>4.0</td>\n",
       "    </tr>\n",
       "    <tr>\n",
       "      <th>Infubinol</th>\n",
       "      <td>178.0</td>\n",
       "      <td>16.230337</td>\n",
       "      <td>7.510278</td>\n",
       "      <td>1.0</td>\n",
       "      <td>8.00</td>\n",
       "      <td>20.0</td>\n",
       "      <td>23.0</td>\n",
       "      <td>24.0</td>\n",
       "      <td>178.0</td>\n",
       "      <td>27.196629</td>\n",
       "      <td>...</td>\n",
       "      <td>57.314444</td>\n",
       "      <td>72.226731</td>\n",
       "      <td>178.0</td>\n",
       "      <td>0.960674</td>\n",
       "      <td>1.027104</td>\n",
       "      <td>0.0</td>\n",
       "      <td>0.0</td>\n",
       "      <td>1.0</td>\n",
       "      <td>2.0</td>\n",
       "      <td>4.0</td>\n",
       "    </tr>\n",
       "    <tr>\n",
       "      <th>Ketapril</th>\n",
       "      <td>188.0</td>\n",
       "      <td>15.659574</td>\n",
       "      <td>6.019670</td>\n",
       "      <td>1.0</td>\n",
       "      <td>11.75</td>\n",
       "      <td>18.0</td>\n",
       "      <td>19.0</td>\n",
       "      <td>24.0</td>\n",
       "      <td>188.0</td>\n",
       "      <td>27.861702</td>\n",
       "      <td>...</td>\n",
       "      <td>60.870951</td>\n",
       "      <td>78.567014</td>\n",
       "      <td>188.0</td>\n",
       "      <td>1.297872</td>\n",
       "      <td>1.393873</td>\n",
       "      <td>0.0</td>\n",
       "      <td>0.0</td>\n",
       "      <td>1.0</td>\n",
       "      <td>2.0</td>\n",
       "      <td>4.0</td>\n",
       "    </tr>\n",
       "    <tr>\n",
       "      <th>Naftisol</th>\n",
       "      <td>186.0</td>\n",
       "      <td>12.000000</td>\n",
       "      <td>6.715855</td>\n",
       "      <td>2.0</td>\n",
       "      <td>8.00</td>\n",
       "      <td>9.0</td>\n",
       "      <td>19.0</td>\n",
       "      <td>23.0</td>\n",
       "      <td>186.0</td>\n",
       "      <td>27.166667</td>\n",
       "      <td>...</td>\n",
       "      <td>59.963034</td>\n",
       "      <td>76.668817</td>\n",
       "      <td>186.0</td>\n",
       "      <td>1.182796</td>\n",
       "      <td>1.216519</td>\n",
       "      <td>0.0</td>\n",
       "      <td>0.0</td>\n",
       "      <td>1.0</td>\n",
       "      <td>2.0</td>\n",
       "      <td>4.0</td>\n",
       "    </tr>\n",
       "    <tr>\n",
       "      <th>Placebo</th>\n",
       "      <td>181.0</td>\n",
       "      <td>10.734807</td>\n",
       "      <td>6.354907</td>\n",
       "      <td>1.0</td>\n",
       "      <td>5.00</td>\n",
       "      <td>10.0</td>\n",
       "      <td>17.0</td>\n",
       "      <td>21.0</td>\n",
       "      <td>181.0</td>\n",
       "      <td>27.928177</td>\n",
       "      <td>...</td>\n",
       "      <td>59.916934</td>\n",
       "      <td>73.212939</td>\n",
       "      <td>181.0</td>\n",
       "      <td>1.441989</td>\n",
       "      <td>1.338824</td>\n",
       "      <td>0.0</td>\n",
       "      <td>0.0</td>\n",
       "      <td>1.0</td>\n",
       "      <td>2.0</td>\n",
       "      <td>4.0</td>\n",
       "    </tr>\n",
       "    <tr>\n",
       "      <th>Propriva</th>\n",
       "      <td>148.0</td>\n",
       "      <td>10.006757</td>\n",
       "      <td>6.946341</td>\n",
       "      <td>1.0</td>\n",
       "      <td>5.00</td>\n",
       "      <td>7.5</td>\n",
       "      <td>16.0</td>\n",
       "      <td>24.0</td>\n",
       "      <td>148.0</td>\n",
       "      <td>27.135135</td>\n",
       "      <td>...</td>\n",
       "      <td>56.491585</td>\n",
       "      <td>72.455421</td>\n",
       "      <td>148.0</td>\n",
       "      <td>1.013514</td>\n",
       "      <td>1.106484</td>\n",
       "      <td>0.0</td>\n",
       "      <td>0.0</td>\n",
       "      <td>1.0</td>\n",
       "      <td>1.0</td>\n",
       "      <td>4.0</td>\n",
       "    </tr>\n",
       "    <tr>\n",
       "      <th>Ramicane</th>\n",
       "      <td>228.0</td>\n",
       "      <td>10.684211</td>\n",
       "      <td>5.946629</td>\n",
       "      <td>1.0</td>\n",
       "      <td>7.00</td>\n",
       "      <td>9.0</td>\n",
       "      <td>18.0</td>\n",
       "      <td>23.0</td>\n",
       "      <td>228.0</td>\n",
       "      <td>19.679825</td>\n",
       "      <td>...</td>\n",
       "      <td>45.000000</td>\n",
       "      <td>47.622816</td>\n",
       "      <td>228.0</td>\n",
       "      <td>0.548246</td>\n",
       "      <td>0.691259</td>\n",
       "      <td>0.0</td>\n",
       "      <td>0.0</td>\n",
       "      <td>0.0</td>\n",
       "      <td>1.0</td>\n",
       "      <td>3.0</td>\n",
       "    </tr>\n",
       "    <tr>\n",
       "      <th>Stelasyn</th>\n",
       "      <td>181.0</td>\n",
       "      <td>12.784530</td>\n",
       "      <td>7.939562</td>\n",
       "      <td>1.0</td>\n",
       "      <td>4.00</td>\n",
       "      <td>14.0</td>\n",
       "      <td>21.0</td>\n",
       "      <td>23.0</td>\n",
       "      <td>181.0</td>\n",
       "      <td>27.856354</td>\n",
       "      <td>...</td>\n",
       "      <td>58.719297</td>\n",
       "      <td>75.123690</td>\n",
       "      <td>181.0</td>\n",
       "      <td>0.872928</td>\n",
       "      <td>0.972046</td>\n",
       "      <td>0.0</td>\n",
       "      <td>0.0</td>\n",
       "      <td>1.0</td>\n",
       "      <td>1.0</td>\n",
       "      <td>4.0</td>\n",
       "    </tr>\n",
       "    <tr>\n",
       "      <th>Zoniferol</th>\n",
       "      <td>182.0</td>\n",
       "      <td>12.598901</td>\n",
       "      <td>5.786114</td>\n",
       "      <td>2.0</td>\n",
       "      <td>8.00</td>\n",
       "      <td>12.5</td>\n",
       "      <td>16.0</td>\n",
       "      <td>24.0</td>\n",
       "      <td>182.0</td>\n",
       "      <td>27.692308</td>\n",
       "      <td>...</td>\n",
       "      <td>57.954259</td>\n",
       "      <td>73.324432</td>\n",
       "      <td>182.0</td>\n",
       "      <td>1.230769</td>\n",
       "      <td>1.248884</td>\n",
       "      <td>0.0</td>\n",
       "      <td>0.0</td>\n",
       "      <td>1.0</td>\n",
       "      <td>2.0</td>\n",
       "      <td>4.0</td>\n",
       "    </tr>\n",
       "  </tbody>\n",
       "</table>\n",
       "<p>10 rows × 40 columns</p>\n",
       "</div>"
      ],
      "text/plain": [
       "             Age_months                                                     \\\n",
       "                  count       mean       std  min    25%   50%   75%   max   \n",
       "Drug Regimen                                                                 \n",
       "Capomulin         230.0  13.456522  7.721423  1.0   7.00  16.5  20.0  24.0   \n",
       "Ceftamin          178.0  13.247191  8.071406  2.0   6.00  12.0  20.0  24.0   \n",
       "Infubinol         178.0  16.230337  7.510278  1.0   8.00  20.0  23.0  24.0   \n",
       "Ketapril          188.0  15.659574  6.019670  1.0  11.75  18.0  19.0  24.0   \n",
       "Naftisol          186.0  12.000000  6.715855  2.0   8.00   9.0  19.0  23.0   \n",
       "Placebo           181.0  10.734807  6.354907  1.0   5.00  10.0  17.0  21.0   \n",
       "Propriva          148.0  10.006757  6.946341  1.0   5.00   7.5  16.0  24.0   \n",
       "Ramicane          228.0  10.684211  5.946629  1.0   7.00   9.0  18.0  23.0   \n",
       "Stelasyn          181.0  12.784530  7.939562  1.0   4.00  14.0  21.0  23.0   \n",
       "Zoniferol         182.0  12.598901  5.786114  2.0   8.00  12.5  16.0  24.0   \n",
       "\n",
       "             Weight (g)             ... Tumor Volume (mm3)             \\\n",
       "                  count       mean  ...                75%        max   \n",
       "Drug Regimen                        ...                                 \n",
       "Capomulin         230.0  19.965217  ...          45.000000  48.158209   \n",
       "Ceftamin          178.0  27.398876  ...          56.801438  68.923185   \n",
       "Infubinol         178.0  27.196629  ...          57.314444  72.226731   \n",
       "Ketapril          188.0  27.861702  ...          60.870951  78.567014   \n",
       "Naftisol          186.0  27.166667  ...          59.963034  76.668817   \n",
       "Placebo           181.0  27.928177  ...          59.916934  73.212939   \n",
       "Propriva          148.0  27.135135  ...          56.491585  72.455421   \n",
       "Ramicane          228.0  19.679825  ...          45.000000  47.622816   \n",
       "Stelasyn          181.0  27.856354  ...          58.719297  75.123690   \n",
       "Zoniferol         182.0  27.692308  ...          57.954259  73.324432   \n",
       "\n",
       "             Metastatic Sites                                               \n",
       "                        count      mean       std  min  25%  50%  75%  max  \n",
       "Drug Regimen                                                                \n",
       "Capomulin               230.0  0.713043  0.848993  0.0  0.0  0.0  1.0  3.0  \n",
       "Ceftamin                178.0  1.179775  1.184283  0.0  0.0  1.0  2.0  4.0  \n",
       "Infubinol               178.0  0.960674  1.027104  0.0  0.0  1.0  2.0  4.0  \n",
       "Ketapril                188.0  1.297872  1.393873  0.0  0.0  1.0  2.0  4.0  \n",
       "Naftisol                186.0  1.182796  1.216519  0.0  0.0  1.0  2.0  4.0  \n",
       "Placebo                 181.0  1.441989  1.338824  0.0  0.0  1.0  2.0  4.0  \n",
       "Propriva                148.0  1.013514  1.106484  0.0  0.0  1.0  1.0  4.0  \n",
       "Ramicane                228.0  0.548246  0.691259  0.0  0.0  0.0  1.0  3.0  \n",
       "Stelasyn                181.0  0.872928  0.972046  0.0  0.0  1.0  1.0  4.0  \n",
       "Zoniferol               182.0  1.230769  1.248884  0.0  0.0  1.0  2.0  4.0  \n",
       "\n",
       "[10 rows x 40 columns]"
      ]
     },
     "execution_count": 71,
     "metadata": {},
     "output_type": "execute_result"
    }
   ],
   "source": [
    "# Generate a summary statistics table of mean, median, variance, standard deviation, and SEM of the tumor volume for each regimen\n",
    "\n",
    "# Use groupby and summary statistical methods to calculate the following properties of each drug regimen:\n",
    "# mean, median, variance, standard deviation, and SEM of the tumor volume.\n",
    "# Assemble the resulting series into a single summary DataFrame.\n",
    "grouped_data = cleaned_data.groupby('Drug Regimen')\n",
    "grouped_data.describe()\n",
    "\n",
    "\n"
   ]
  },
  {
   "cell_type": "code",
   "execution_count": 69,
   "metadata": {},
   "outputs": [
    {
     "name": "stdout",
     "output_type": "stream",
     "text": [
      "                   Mean     Median   Variance  Standard_Deviation       SEM\n",
      "Drug Regimen                                                               \n",
      "Capomulin     40.675741  41.557809  24.947764            4.994774  0.329346\n",
      "Ceftamin      52.591172  51.776157  39.290177            6.268188  0.469821\n",
      "Infubinol     52.884795  51.820584  43.128684            6.567243  0.492236\n",
      "Ketapril      55.235638  53.698743  68.553577            8.279709  0.603860\n",
      "Naftisol      54.331565  52.509285  66.173479            8.134708  0.596466\n",
      "Placebo       54.033581  52.288934  61.168083            7.821003  0.581331\n",
      "Propriva      52.320930  50.446266  43.852013            6.622085  0.544332\n",
      "Ramicane      40.216745  40.673236  23.486704            4.846308  0.320955\n",
      "Stelasyn      54.233149  52.431737  59.450562            7.710419  0.573111\n",
      "Zoniferol     53.236507  51.818479  48.533355            6.966589  0.516398\n"
     ]
    }
   ],
   "source": [
    "# A more advanced method to generate a summary statistics table of mean, median, variance, standard deviation,\n",
    "# and SEM of the tumor volume for each regimen (only one method is required in the solution)\n",
    "\n",
    "# Using the aggregation method, produce the same summary statistics in a single line\n",
    "summary_stats = cleaned_data.groupby('Drug Regimen')['Tumor Volume (mm3)'].agg(\n",
    "    Mean='mean',\n",
    "    Median='median',\n",
    "    Variance='var',\n",
    "    Standard_Deviation='std',\n",
    "    SEM='sem'\n",
    ")\n",
    "print(summary_stats)\n"
   ]
  },
  {
   "cell_type": "markdown",
   "metadata": {},
   "source": [
    "## Bar and Pie Charts"
   ]
  },
  {
   "cell_type": "code",
   "execution_count": 73,
   "metadata": {},
   "outputs": [
    {
     "data": {
      "image/png": "[encoded data removed]",
      "text/plain": [
       "<Figure size 640x480 with 1 Axes>"
      ]
     },
     "metadata": {},
     "output_type": "display_data"
    }
   ],
   "source": [
    "# Generate a bar plot showing the total number of rows (Mouse ID/Timepoints) for each drug regimen using Pandas.\n",
    "timepoint_counts = cleaned_data['Drug Regimen'].value_counts()\n",
    "timepoint_counts.plot(kind='bar', title='Number of Timepoints for Each Drug Regimen')\n",
    "plt.xlabel('Drug Regimen')\n",
    "plt.ylabel('Number of Timepoints')\n",
    "plt.show()\n"
   ]
  },
  {
   "cell_type": "code",
   "execution_count": 75,
   "metadata": {},
   "outputs": [
    {
     "data": {
      "image/png": "[encoded data removed]",
      "text/plain": [
       "<Figure size 640x480 with 1 Axes>"
      ]
     },
     "metadata": {},
     "output_type": "display_data"
    }
   ],
   "source": [
    "# Generate a bar plot showing the total number of rows (Mouse ID/Timepoints) for each drug regimen using pyplot.\n",
    "timepoint_counts = cleaned_data['Drug Regimen'].value_counts()\n",
    "timepoint_counts.plot(kind='bar', title='Total number of rows (Mouse ID/Timepoints)')\n",
    "plt.xlabel('Drug Regimen')\n",
    "plt.ylabel('Number of Timepoints')\n",
    "plt.show()\n"
   ]
  },
  {
   "cell_type": "code",
   "execution_count": 35,
   "metadata": {},
   "outputs": [],
   "source": [
    "# Generate a pie chart, using Pandas, showing the distribution of unique female versus male mice used in the study\n",
    "\n",
    "# Get the unique mice with their gender\n",
    "\n",
    "\n",
    "# Make the pie chart\n"
   ]
  },
  {
   "cell_type": "code",
   "execution_count": 36,
   "metadata": {},
   "outputs": [],
   "source": [
    "# Generate a pie chart, using pyplot, showing the distribution of unique female versus male mice used in the study\n",
    "\n",
    "# Get the unique mice with their gender\n",
    "\n",
    "\n",
    "# Make the pie chart\n"
   ]
  },
  {
   "cell_type": "markdown",
   "metadata": {},
   "source": [
    "## Quartiles, Outliers and Boxplots"
   ]
  },
  {
   "cell_type": "code",
   "execution_count": 37,
   "metadata": {},
   "outputs": [],
   "source": [
    "# Calculate the final tumor volume of each mouse across four of the treatment regimens:\n",
    "# Capomulin, Ramicane, Infubinol, and Ceftamin\n",
    "\n",
    "# Start by getting the last (greatest) timepoint for each mouse\n",
    "\n",
    "\n",
    "# Merge this group df with the original DataFrame to get the tumor volume at the last timepoint\n"
   ]
  },
  {
   "cell_type": "code",
   "execution_count": 38,
   "metadata": {},
   "outputs": [],
   "source": [
    "# Put treatments into a list for for loop (and later for plot labels)\n",
    "\n",
    "\n",
    "# Create empty list to fill with tumor vol data (for plotting)\n",
    "\n",
    "\n",
    "# Calculate the IQR and quantitatively determine if there are any potential outliers.\n",
    "\n",
    "\n",
    "    # Locate the rows which contain mice on each drug and get the tumor volumes\n",
    "\n",
    "\n",
    "    # add subset\n",
    "\n",
    "\n",
    "    # Determine outliers using upper and lower bounds\n"
   ]
  },
  {
   "cell_type": "code",
   "execution_count": 39,
   "metadata": {},
   "outputs": [],
   "source": [
    "# Generate a box plot that shows the distribution of the tumor volume for each treatment group.\n"
   ]
  },
  {
   "cell_type": "markdown",
   "metadata": {},
   "source": [
    "## Line and Scatter Plots"
   ]
  },
  {
   "cell_type": "code",
   "execution_count": 40,
   "metadata": {},
   "outputs": [],
   "source": [
    "# Generate a line plot of tumor volume vs. time point for a single mouse treated with Capomulin\n"
   ]
  },
  {
   "cell_type": "code",
   "execution_count": 41,
   "metadata": {},
   "outputs": [],
   "source": [
    "# Generate a scatter plot of mouse weight vs. the average observed tumor volume for the entire Capomulin regimen\n"
   ]
  },
  {
   "cell_type": "markdown",
   "metadata": {},
   "source": [
    "## Correlation and Regression"
   ]
  },
  {
   "cell_type": "code",
   "execution_count": 42,
   "metadata": {},
   "outputs": [],
   "source": [
    "# Calculate the correlation coefficient and a linear regression model\n",
    "# for mouse weight and average observed tumor volume for the entire Capomulin regimen\n"
   ]
  },
  {
   "cell_type": "code",
   "execution_count": null,
   "metadata": {},
   "outputs": [],
   "source": []
  }
 ],
 "metadata": {
  "anaconda-cloud": {},
  "kernelspec": {
   "display_name": "PythonData",
   "language": "python",
   "name": "python3"
  },
  "language_info": {
   "codemirror_mode": {
    "name": "ipython",
    "version": 3
   },
   "file_extension": ".py",
   "mimetype": "text/x-python",
   "name": "python",
   "nbconvert_exporter": "python",
   "pygments_lexer": "ipython3",
   "version": "3.11.7"
  }
 },
 "nbformat": 4,
 "nbformat_minor": 4
}
